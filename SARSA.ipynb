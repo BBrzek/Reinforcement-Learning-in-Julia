{
 "cells": [
  {
   "cell_type": "code",
   "execution_count": 51,
   "id": "bf496ec8",
   "metadata": {
    "scrolled": true
   },
   "outputs": [
    {
     "data": {
      "text/plain": [
       "<PyCall.jlwrap load_agent>"
      ]
     },
     "execution_count": 51,
     "metadata": {},
     "output_type": "execute_result"
    }
   ],
   "source": [
    "import gym\n",
    "import numpy as np\n",
    "\n",
    "import matplotlib.pyplot as plt\n",
    "\n",
    "from tqdm import tqdm"
   ]
  },
  {
   "cell_type": "code",
   "execution_count": null,
   "id": "48f4f293",
   "metadata": {},
   "outputs": [],
   "source": [
    "from julia.api import Julia\n",
    "from julia import Main\n",
    "\n",
    "jl = Julia(compiled_modules=True)\n",
    "Main.include(\"sarsa_agent.jl\")"
   ]
  },
  {
   "cell_type": "code",
   "execution_count": 52,
   "id": "bc82533d",
   "metadata": {},
   "outputs": [],
   "source": [
    "env = gym.make('CliffWalking-v0')\n",
    "\n",
    "alpha, gamma, epsilon = 0.1, 0.9, 0.1\n",
    "\n",
    "agent = Main.SarsaAgent(env, alpha, gamma, epsilon)"
   ]
  },
  {
   "cell_type": "code",
   "execution_count": 53,
   "id": "3c885957",
   "metadata": {},
   "outputs": [
    {
     "name": "stderr",
     "output_type": "stream",
     "text": [
      "100%|███████████████████████████████████████████████████████████████████████████| 20000/20000 [03:12<00:00, 103.65it/s]\n"
     ]
    },
    {
     "data": {
      "text/plain": [
       "[<matplotlib.lines.Line2D at 0x216539bebd0>]"
      ]
     },
     "execution_count": 53,
     "metadata": {},
     "output_type": "execute_result"
    },
    {
     "data": {
      "image/png": "[encoded data removed]",
      "text/plain": [
       "<Figure size 640x480 with 1 Axes>"
      ]
     },
     "metadata": {},
     "output_type": "display_data"
    }
   ],
   "source": [
    "sarsa_Rewards = []\n",
    "\n",
    "for episode in tqdm(range(20000)):\n",
    "    episode_reward = 0\n",
    "    \n",
    "    state = env.reset()\n",
    "    state = state[0] if isinstance(state, tuple) else state\n",
    "    \n",
    "    action = Main.get_action(agent, state)\n",
    "    \n",
    "    done = False\n",
    "    while not done:\n",
    "\n",
    "        next_state, reward, done, truncated, info = env.step(action)\n",
    "        next_state = next_state[0] if isinstance(next_state, tuple) else next_state\n",
    "\n",
    "        next_action = Main.get_action(agent, next_state)\n",
    "        \n",
    "        Main.update(agent, state, action, reward, next_state, next_action)\n",
    "        state = next_state\n",
    "        episode_reward += reward\n",
    "        action = next_action\n",
    "    sarsa_Rewards.append(episode_reward)\n",
    "\n",
    "Main.save(agent)\n",
    "plt.plot(sarsa_Rewards)"
   ]
  }
 ],
 "metadata": {
  "kernelspec": {
   "display_name": "Python 3 (ipykernel)",
   "language": "python",
   "name": "python3"
  },
  "language_info": {
   "codemirror_mode": {
    "name": "ipython",
    "version": 3
   },
   "file_extension": ".py",
   "mimetype": "text/x-python",
   "name": "python",
   "nbconvert_exporter": "python",
   "pygments_lexer": "ipython3",
   "version": "3.11.4"
  }
 },
 "nbformat": 4,
 "nbformat_minor": 5
}
