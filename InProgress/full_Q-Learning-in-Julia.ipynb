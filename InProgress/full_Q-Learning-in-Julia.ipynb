{
 "cells": [
  {
   "cell_type": "code",
   "execution_count": 1,
   "id": "5442cadc",
   "metadata": {},
   "outputs": [],
   "source": [
    "import gym\n",
    "import numpy as np\n",
    "from agents import QLearningAgent\n",
    "\n",
    "from tqdm import tqdm\n",
    "import time\n",
    "\n",
    "import matplotlib.pyplot as plt"
   ]
  },
  {
   "cell_type": "code",
   "execution_count": 2,
   "id": "a589ee10",
   "metadata": {},
   "outputs": [
    {
     "data": {
      "text/plain": [
       "<PyCall.jlwrap runQ_learning>"
      ]
     },
     "execution_count": 2,
     "metadata": {},
     "output_type": "execute_result"
    }
   ],
   "source": [
    "from julia.api import Julia\n",
    "from julia import Main\n",
    "\n",
    "jl = Julia(compiled_modules=True)\n",
    "Main.include(\"Q-learning-algorithm.jl\")"
   ]
  },
  {
   "cell_type": "code",
   "execution_count": 3,
   "id": "f96d78f4",
   "metadata": {},
   "outputs": [],
   "source": [
    "env = gym.make('CliffWalking-v0')"
   ]
  },
  {
   "cell_type": "code",
   "execution_count": 4,
   "id": "c5aec329",
   "metadata": {},
   "outputs": [],
   "source": [
    "def code_section_1():\n",
    "    Main.runQ_learning(env)\n",
    "\n",
    "def code_section_2():\n",
    "    alpha, gamma, epsilon = 0.1, 0.95, 0.1\n",
    "    qAgent = QLearningAgent(env, alpha=alpha, gamma=gamma, epsilon=epsilon)\n",
    "\n",
    "    for episode in range(20000):\n",
    "        state, info = env.reset()\n",
    "        done = False\n",
    "        while not done:\n",
    "            action = qAgent.get_action(state)\n",
    "\n",
    "            next_state, reward, done, truncated, info = env.step(action)\n",
    "\n",
    "            qAgent.update(state, action, reward, next_state)\n",
    "\n",
    "            state = next_state \n",
    "    qAgent.save()"
   ]
  },
  {
   "cell_type": "code",
   "execution_count": 5,
   "id": "e986f815",
   "metadata": {},
   "outputs": [
    {
     "name": "stderr",
     "output_type": "stream",
     "text": [
      "  0%|                                                                                           | 0/20 [00:00<?, ?it/s]C:\\Users\\BBrzek\\anaconda3\\Lib\\site-packages\\gym\\utils\\passive_env_checker.py:233: DeprecationWarning: `np.bool8` is a deprecated alias for `np.bool_`.  (Deprecated NumPy 1.24)\n",
      "  if not isinstance(terminated, (bool, np.bool8)):\n",
      "100%|██████████████████████████████████████████████████████████████████████████████████| 20/20 [06:07<00:00, 18.37s/it]\n"
     ]
    }
   ],
   "source": [
    "points_1 = 0\n",
    "points_2 = 0\n",
    "\n",
    "num_executions = 20\n",
    "time_a = []\n",
    "time_b = []\n",
    "for _ in tqdm(range(num_executions)):\n",
    "    start_time = time.time()\n",
    "    code_section_1()\n",
    "    time_1 = time.time() - start_time\n",
    "    \n",
    "    time_a.append(time_1)\n",
    "    \n",
    "    start_time = time.time()\n",
    "    code_section_2()\n",
    "    time_2 = time.time() - start_time\n",
    "    \n",
    "    time_b.append(time_2)"
   ]
  },
  {
   "cell_type": "code",
   "execution_count": 8,
   "id": "d7446558",
   "metadata": {},
   "outputs": [],
   "source": [
    "average1 = sum(time_a)/len(time_a)\n",
    "average2 = sum(time_b)/len(time_b)"
   ]
  },
  {
   "cell_type": "code",
   "execution_count": 9,
   "id": "2bbe6b2a",
   "metadata": {},
   "outputs": [
    {
     "name": "stdout",
     "output_type": "stream",
     "text": [
      "9.00206526517868 9.364904344081879\n"
     ]
    }
   ],
   "source": [
    "print(average1, average2)"
   ]
  },
  {
   "cell_type": "code",
   "execution_count": null,
   "id": "19a89570",
   "metadata": {},
   "outputs": [],
   "source": []
  }
 ],
 "metadata": {
  "kernelspec": {
   "display_name": "Python 3 (ipykernel)",
   "language": "python",
   "name": "python3"
  },
  "language_info": {
   "codemirror_mode": {
    "name": "ipython",
    "version": 3
   },
   "file_extension": ".py",
   "mimetype": "text/x-python",
   "name": "python",
   "nbconvert_exporter": "python",
   "pygments_lexer": "ipython3",
   "version": "3.11.4"
  }
 },
 "nbformat": 4,
 "nbformat_minor": 5
}
